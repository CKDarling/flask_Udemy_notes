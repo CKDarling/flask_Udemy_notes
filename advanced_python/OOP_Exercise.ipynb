{
 "cells": [
  {
   "cell_type": "code",
   "execution_count": 5,
   "metadata": {},
   "outputs": [
    {
     "name": "stdout",
     "output_type": "stream",
     "text": [
      "Owner: Jose, balance: 100\n",
      "Depositing 50\n",
      "Remaining Balance: 150\n",
      "Withdrawing 75\n",
      "Remaining Balance: 75\n"
     ]
    },
    {
     "data": {
      "text/plain": [
       "'Withdraw amount is too large.'"
      ]
     },
     "execution_count": 5,
     "metadata": {},
     "output_type": "execute_result"
    }
   ],
   "source": [
    "####################################################\n",
    "####################################################\n",
    "# Object Oriented Programming Challenge - Solution\n",
    "####################################################\n",
    "####################################################\n",
    "#\n",
    "# For this challenge, create a bank account class that has two attributes:\n",
    "#\n",
    "# * owner\n",
    "# * balance\n",
    "#\n",
    "# and two methods:\n",
    "#\n",
    "# * deposit\n",
    "# * withdraw\n",
    "#\n",
    "# As an added requirement, withdrawals may not exceed the available balance.\n",
    "#\n",
    "# Instantiate your class, make several deposits and withdrawals, and test to make sure the account can't be overdrawn.\n",
    "\n",
    "\n",
    "\n",
    "\n",
    "class Account:\n",
    "    \n",
    "    def __init__(self,owner,balance):\n",
    "        self.owner = owner\n",
    "        self.balance = balance\n",
    "        \n",
    "    def deposit(self,deposit_amount):\n",
    "        \n",
    "        self.balance = self.balance + deposit_amount\n",
    "        print(f'Depositing {deposit_amount}\\nRemaining Balance: {self.balance}')\n",
    "        \n",
    "    def withdraw(self,withdraw_amount):\n",
    "        if withdraw_amount > self.balance:\n",
    "            return \"Withdraw amount is too large.\"\n",
    "        else: \n",
    "            self.balance = self.balance - withdraw_amount\n",
    "            print(f'Withdrawing {withdraw_amount}\\nRemaining Balance: {self.balance}')\n",
    "    def __repr__(self):\n",
    "        return f\"Owner: {self.owner}, balance: {self.balance}\"\n",
    "\n",
    "# 1. Instantiate the class\n",
    "acct1 = Account('Jose',100)\n",
    "\n",
    "\n",
    "# 2. Print the object\n",
    "print(acct1)\n",
    "\n",
    "\n",
    "\n",
    "\n",
    "# 3. Show the account owner attribute\n",
    "acct1.owner\n",
    "\n",
    "\n",
    "\n",
    "\n",
    "# 4. Show the account balance attribute\n",
    "acct1.balance\n",
    "\n",
    "\n",
    "\n",
    "\n",
    "# 5. Make a series of deposits and withdrawals\n",
    "acct1.deposit(50)\n",
    "\n",
    "\n",
    "\n",
    "\n",
    "acct1.withdraw(75)\n",
    "\n",
    "\n",
    "\n",
    "\n",
    "# 6. Make a withdrawal that exceeds the available balance\n",
    "acct1.withdraw(500)\n",
    "\n",
    "\n",
    "\n",
    "# ## Good job!\n"
   ]
  },
  {
   "cell_type": "code",
   "execution_count": null,
   "metadata": {},
   "outputs": [],
   "source": []
  }
 ],
 "metadata": {
  "kernelspec": {
   "display_name": "Python 3",
   "language": "python",
   "name": "python3"
  },
  "language_info": {
   "codemirror_mode": {
    "name": "ipython",
    "version": 3
   },
   "file_extension": ".py",
   "mimetype": "text/x-python",
   "name": "python",
   "nbconvert_exporter": "python",
   "pygments_lexer": "ipython3",
   "version": "3.7.7"
  }
 },
 "nbformat": 4,
 "nbformat_minor": 4
}
