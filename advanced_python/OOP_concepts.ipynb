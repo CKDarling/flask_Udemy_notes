{
 "cells": [
  {
   "cell_type": "markdown",
   "metadata": {},
   "source": [
    "### LEGB\n",
    "\n",
    "* Local\n",
    "* Enclosing\n",
    "* Global\n",
    "* Built-In"
   ]
  },
  {
   "cell_type": "code",
   "execution_count": 1,
   "metadata": {},
   "outputs": [],
   "source": [
    "def report():\n",
    "    # Local Assignment\n",
    "    x = 'local'\n",
    "    print(x)"
   ]
  },
  {
   "cell_type": "code",
   "execution_count": 4,
   "metadata": {},
   "outputs": [
    {
     "name": "stdout",
     "output_type": "stream",
     "text": [
      "local\n"
     ]
    }
   ],
   "source": [
    "# Enclosing\n",
    "x = 'this is global level'\n",
    "def enclosing():\n",
    "    x = 'enclosing level'\n",
    "    \n",
    "    def inside():\n",
    "        x = 'local'\n",
    "        print(x)\n",
    "        \n",
    "    inside()\n",
    "enclosing()"
   ]
  },
  {
   "cell_type": "code",
   "execution_count": 5,
   "metadata": {},
   "outputs": [
    {
     "name": "stdout",
     "output_type": "stream",
     "text": [
      "enclosing level\n"
     ]
    }
   ],
   "source": [
    "# Enclosing\n",
    "x = 'this is global level'\n",
    "def enclosing():\n",
    "    x = 'enclosing level'\n",
    "    \n",
    "    def inside():\n",
    "#         x = 'local'\n",
    "        print(x)\n",
    "        \n",
    "    inside()\n",
    "enclosing()"
   ]
  },
  {
   "cell_type": "code",
   "execution_count": 7,
   "metadata": {},
   "outputs": [
    {
     "name": "stdout",
     "output_type": "stream",
     "text": [
      "global level\n"
     ]
    }
   ],
   "source": [
    "# Enclosing\n",
    "x = 'global level'\n",
    "def enclosing():\n",
    "#     x = 'enclosing level'\n",
    "    \n",
    "    def inside():\n",
    "#         x = 'local'\n",
    "        print(x)\n",
    "        \n",
    "    inside()\n",
    "enclosing()"
   ]
  },
  {
   "cell_type": "code",
   "execution_count": 11,
   "metadata": {},
   "outputs": [
    {
     "name": "stdout",
     "output_type": "stream",
     "text": [
      "inside\n"
     ]
    }
   ],
   "source": [
    "x = 'outside'\n",
    "\n",
    "def report():\n",
    "    x = 'inside'\n",
    "    return x\n",
    "print(report())"
   ]
  },
  {
   "cell_type": "code",
   "execution_count": 12,
   "metadata": {},
   "outputs": [
    {
     "name": "stdout",
     "output_type": "stream",
     "text": [
      "inside\n"
     ]
    }
   ],
   "source": [
    "# Reassigns to Global Level\n",
    "x = report()\n",
    "print(x)"
   ]
  },
  {
   "cell_type": "code",
   "execution_count": null,
   "metadata": {},
   "outputs": [],
   "source": [
    "x = 'outside'\n",
    "\n",
    "def report():\n",
    "    # This pushes this inner scope value out to the global level\n",
    "    # DANGEROUS\n",
    "    global x\n",
    "    x = 'inside'\n",
    "    return x"
   ]
  },
  {
   "cell_type": "code",
   "execution_count": null,
   "metadata": {},
   "outputs": [],
   "source": []
  },
  {
   "cell_type": "markdown",
   "metadata": {},
   "source": [
    "## Object Oriented Programming"
   ]
  },
  {
   "cell_type": "code",
   "execution_count": 22,
   "metadata": {},
   "outputs": [],
   "source": [
    "class NameOfClass():\n",
    "    def __init__(self,param1,param2):\n",
    "        self.param1 = param1\n",
    "        self.param2 = param2\n",
    "    def some_method(self):\n",
    "        print(self.param1)"
   ]
  },
  {
   "cell_type": "code",
   "execution_count": null,
   "metadata": {},
   "outputs": [],
   "source": []
  },
  {
   "cell_type": "code",
   "execution_count": 25,
   "metadata": {},
   "outputs": [
    {
     "name": "stdout",
     "output_type": "stream",
     "text": [
      "<class '__main__.Sample'>\n"
     ]
    }
   ],
   "source": [
    "class Sample():\n",
    "    pass\n",
    "\n",
    "x = Sample()\n",
    "print(type(x))"
   ]
  },
  {
   "cell_type": "code",
   "execution_count": 32,
   "metadata": {},
   "outputs": [
    {
     "name": "stdout",
     "output_type": "stream",
     "text": [
      "Badger\n",
      "lab\n",
      "mammal\n"
     ]
    }
   ],
   "source": [
    "class Dog():\n",
    "    # Class Object Attributes\n",
    "    # Always come before init call\n",
    "    species = 'mammal'\n",
    "    \n",
    "    def __init__(self,breed,name):\n",
    "        # initialize the class\n",
    "        self.breed = breed\n",
    "        self.name = name\n",
    "        \n",
    "\n",
    "cam = Dog('lab','Badger')\n",
    "print(cam.name)\n",
    "print(cam.breed)\n",
    "print(cam.species)\n"
   ]
  },
  {
   "cell_type": "markdown",
   "metadata": {},
   "source": [
    "### Methods and Inheritence\n",
    "* Methods\n",
    "    * Actions performed on the object\n",
    "* Inheritence\n",
    "    * Classes which are taking in previously built classes and their attributes. "
   ]
  },
  {
   "cell_type": "code",
   "execution_count": 47,
   "metadata": {},
   "outputs": [],
   "source": [
    "class Circle():\n",
    "    \n",
    "    pi = 3.14\n",
    "    \n",
    "    def __init__(self,radius=1):\n",
    "        self.radius = radius\n",
    "        \n",
    "    def area(self):\n",
    "        return self.radius * self.radius * self.pi\n",
    "    \n",
    "    def circumfrence(self):\n",
    "        return 2 * self.pi * self.radius"
   ]
  },
  {
   "cell_type": "code",
   "execution_count": 48,
   "metadata": {},
   "outputs": [
    {
     "data": {
      "text/plain": [
       "10"
      ]
     },
     "execution_count": 48,
     "metadata": {},
     "output_type": "execute_result"
    }
   ],
   "source": [
    "my_circle = Circle(10)\n",
    "my_circle.radius"
   ]
  },
  {
   "cell_type": "code",
   "execution_count": 49,
   "metadata": {},
   "outputs": [
    {
     "data": {
      "text/plain": [
       "314.0"
      ]
     },
     "execution_count": 49,
     "metadata": {},
     "output_type": "execute_result"
    }
   ],
   "source": [
    "my_circle.area()"
   ]
  },
  {
   "cell_type": "code",
   "execution_count": 51,
   "metadata": {},
   "outputs": [
    {
     "data": {
      "text/plain": [
       "62.800000000000004"
      ]
     },
     "execution_count": 51,
     "metadata": {},
     "output_type": "execute_result"
    }
   ],
   "source": [
    "my_circle.circumfrence()"
   ]
  },
  {
   "cell_type": "code",
   "execution_count": 53,
   "metadata": {},
   "outputs": [],
   "source": [
    "class Animal():\n",
    "    \n",
    "    def __init__(self):\n",
    "        print('Animal Created')\n",
    "        \n",
    "    def report(self):\n",
    "        print('Animal')\n",
    "        \n",
    "    def eat(self):\n",
    "        print('Eating')"
   ]
  },
  {
   "cell_type": "code",
   "execution_count": 54,
   "metadata": {},
   "outputs": [
    {
     "name": "stdout",
     "output_type": "stream",
     "text": [
      "Animal Created\n"
     ]
    }
   ],
   "source": [
    "animal = Animal()"
   ]
  },
  {
   "cell_type": "code",
   "execution_count": 56,
   "metadata": {},
   "outputs": [
    {
     "name": "stdout",
     "output_type": "stream",
     "text": [
      "Eating\n"
     ]
    }
   ],
   "source": [
    "animal.eat()"
   ]
  },
  {
   "cell_type": "code",
   "execution_count": 58,
   "metadata": {},
   "outputs": [],
   "source": [
    "class Cat(Animal):\n",
    "    \n",
    "    def __init__(self):\n",
    "        # THis passes all of the Animal classes properties to the new object. \n",
    "        Animal.__init__(self)\n",
    "        print('Cat Created')"
   ]
  },
  {
   "cell_type": "code",
   "execution_count": 60,
   "metadata": {},
   "outputs": [
    {
     "name": "stdout",
     "output_type": "stream",
     "text": [
      "Cat Created\n"
     ]
    }
   ],
   "source": [
    "kitty = Cat()"
   ]
  },
  {
   "cell_type": "code",
   "execution_count": 61,
   "metadata": {},
   "outputs": [
    {
     "name": "stdout",
     "output_type": "stream",
     "text": [
      "Eating\n"
     ]
    }
   ],
   "source": [
    "kitty.eat()"
   ]
  },
  {
   "cell_type": "code",
   "execution_count": 62,
   "metadata": {},
   "outputs": [],
   "source": [
    "class Animal():\n",
    "    \n",
    "    def __init__(self,fur):\n",
    "        self.fur = fur\n",
    "#         print('Animal Created')\n",
    "        \n",
    "    def report(self):\n",
    "        print('Animal')\n",
    "        \n",
    "    def eat(self):\n",
    "        print('Eating')\n",
    "        \n",
    "class Cat(Animal):\n",
    "    \n",
    "    def __init__(self,fur):\n",
    "        # The addition of a parent object's attributes must be passed in at this level. \n",
    "        Animal.__init__(self,fur)\n",
    "        print('Cat Created')"
   ]
  },
  {
   "cell_type": "code",
   "execution_count": 65,
   "metadata": {},
   "outputs": [
    {
     "name": "stdout",
     "output_type": "stream",
     "text": [
      "Cat Created\n"
     ]
    },
    {
     "data": {
      "text/plain": [
       "<__main__.Cat at 0x7fd039d90390>"
      ]
     },
     "execution_count": 65,
     "metadata": {},
     "output_type": "execute_result"
    }
   ],
   "source": [
    "c = Cat('Fuzzy')\n",
    "c\n"
   ]
  },
  {
   "cell_type": "code",
   "execution_count": 66,
   "metadata": {},
   "outputs": [
    {
     "data": {
      "text/plain": [
       "'Fuzzy'"
      ]
     },
     "execution_count": 66,
     "metadata": {},
     "output_type": "execute_result"
    }
   ],
   "source": [
    "c.fur"
   ]
  },
  {
   "cell_type": "markdown",
   "metadata": {},
   "source": [
    "### Special Methods\n",
    "\n",
    "* Also know as \"dunder\" methods, which means \"double underscore\""
   ]
  },
  {
   "cell_type": "code",
   "execution_count": 67,
   "metadata": {},
   "outputs": [],
   "source": [
    "class Book():\n",
    "    \n",
    "    def __init__(self, title, author, pages):\n",
    "        self.title = title\n",
    "        self.author = author\n",
    "        self.pages = pages"
   ]
  },
  {
   "cell_type": "code",
   "execution_count": 70,
   "metadata": {},
   "outputs": [
    {
     "name": "stdout",
     "output_type": "stream",
     "text": [
      "<__main__.Book object at 0x7fd039d9ce50>\n"
     ]
    }
   ],
   "source": [
    "my_book = Book('Econ101','Kinkade D.',600)\n",
    "print(my_book)"
   ]
  },
  {
   "cell_type": "code",
   "execution_count": 83,
   "metadata": {},
   "outputs": [],
   "source": [
    "class Book():\n",
    "    \n",
    "    def __init__(self, title, author, pages):\n",
    "        self.title = title\n",
    "        self.author = author\n",
    "        self.pages = pages\n",
    "#     def __str__\n",
    "    # Representation, which is used heavily in flask\n",
    "    def __repr__(self):\n",
    "        return f\"Title: {self.title}, Author: {self.author}\"\n",
    "    \n",
    "    def __len__(self):\n",
    "        return self.pages"
   ]
  },
  {
   "cell_type": "code",
   "execution_count": 84,
   "metadata": {},
   "outputs": [
    {
     "name": "stdout",
     "output_type": "stream",
     "text": [
      "Title: Econ101, Author: Kinkade D.\n"
     ]
    }
   ],
   "source": [
    "my_book = Book('Econ101','Kinkade D.',600)\n",
    "print(my_book)"
   ]
  },
  {
   "cell_type": "code",
   "execution_count": 85,
   "metadata": {},
   "outputs": [
    {
     "data": {
      "text/plain": [
       "600"
      ]
     },
     "execution_count": 85,
     "metadata": {},
     "output_type": "execute_result"
    }
   ],
   "source": [
    "len(my_book)"
   ]
  },
  {
   "cell_type": "markdown",
   "metadata": {},
   "source": [
    "### Decorators\n",
    "* \"on/off\" switch for particular functionality\n",
    "* We \"decorate\" an old function with new tools. "
   ]
  },
  {
   "cell_type": "code",
   "execution_count": 86,
   "metadata": {},
   "outputs": [
    {
     "name": "stdout",
     "output_type": "stream",
     "text": [
      "hello world!\n"
     ]
    }
   ],
   "source": [
    "def hello():\n",
    "    print('hello world!')\n",
    "    \n",
    "hello()"
   ]
  },
  {
   "cell_type": "code",
   "execution_count": 95,
   "metadata": {},
   "outputs": [],
   "source": [
    "def hello(name='Kinkade'):\n",
    "    print('hello() has been run')\n",
    "    \n",
    "    def greet():\n",
    "        return 'this is inside the greet()'\n",
    "    \n",
    "    def welcome():\n",
    "        \n",
    "        return \"This is inside the hello()\"\n",
    "    \n",
    "    print(greet())\n",
    "    print(welcome())"
   ]
  },
  {
   "cell_type": "code",
   "execution_count": 96,
   "metadata": {},
   "outputs": [
    {
     "name": "stdout",
     "output_type": "stream",
     "text": [
      "hello() has been run\n",
      "this is inside the greet()\n",
      "This is inside the hello()\n"
     ]
    }
   ],
   "source": [
    "hello()"
   ]
  },
  {
   "cell_type": "code",
   "execution_count": 111,
   "metadata": {},
   "outputs": [],
   "source": [
    "# Returning a function\n",
    "\n",
    "def hello(name='Kinkade'):\n",
    "    print('hello() has been run')\n",
    "    \n",
    "    def greet():\n",
    "        return 'this is inside the greet()'\n",
    "    \n",
    "    def welcome():\n",
    "        \n",
    "        return \"This is inside the welcome()\"\n",
    "    \n",
    "    if name == 'Kinkade':\n",
    "        return greet\n",
    "    else:\n",
    "        return welcome"
   ]
  },
  {
   "cell_type": "code",
   "execution_count": 102,
   "metadata": {},
   "outputs": [
    {
     "name": "stdout",
     "output_type": "stream",
     "text": [
      "hello() has been run\n"
     ]
    },
    {
     "data": {
      "text/plain": [
       "'this is inside the greet()'"
      ]
     },
     "execution_count": 102,
     "metadata": {},
     "output_type": "execute_result"
    }
   ],
   "source": [
    "x = hello()\n",
    "x()"
   ]
  },
  {
   "cell_type": "code",
   "execution_count": 103,
   "metadata": {},
   "outputs": [
    {
     "name": "stdout",
     "output_type": "stream",
     "text": [
      "hello() has been run\n"
     ]
    },
    {
     "data": {
      "text/plain": [
       "'This is inside the welcome()'"
      ]
     },
     "execution_count": 103,
     "metadata": {},
     "output_type": "execute_result"
    }
   ],
   "source": [
    "x = hello(name='Zac')\n",
    "x()"
   ]
  },
  {
   "cell_type": "code",
   "execution_count": 112,
   "metadata": {},
   "outputs": [],
   "source": [
    "# Passing in functions as arguements\n",
    "def hello():\n",
    "\n",
    "    return \"Hi Bud\"\n",
    "\n",
    "def other(func):\n",
    "    print('Some other code')\n",
    "    \n",
    "    print(func())"
   ]
  },
  {
   "cell_type": "code",
   "execution_count": 110,
   "metadata": {},
   "outputs": [
    {
     "name": "stdout",
     "output_type": "stream",
     "text": [
      "Some other code\n",
      "Hi Bud\n"
     ]
    }
   ],
   "source": [
    "other(hello)"
   ]
  },
  {
   "cell_type": "code",
   "execution_count": 119,
   "metadata": {},
   "outputs": [],
   "source": [
    "def new_dec(func):\n",
    "    \n",
    "    def wrap_func():\n",
    "        print('some code was ran')\n",
    "        \n",
    "        func()\n",
    "        \n",
    "        print('Code after func()')\n",
    "        \n",
    "    return wrap_func\n",
    "\n",
    "def target_func():\n",
    "    print('please decorate me')"
   ]
  },
  {
   "cell_type": "code",
   "execution_count": 120,
   "metadata": {},
   "outputs": [
    {
     "name": "stdout",
     "output_type": "stream",
     "text": [
      "please decorate me\n"
     ]
    }
   ],
   "source": [
    "target_func()"
   ]
  },
  {
   "cell_type": "code",
   "execution_count": 121,
   "metadata": {},
   "outputs": [],
   "source": [
    "target_func = new_dec(target_func)"
   ]
  },
  {
   "cell_type": "code",
   "execution_count": 123,
   "metadata": {},
   "outputs": [
    {
     "name": "stdout",
     "output_type": "stream",
     "text": [
      "some code was ran\n",
      "please decorate me\n",
      "Code after func()\n"
     ]
    }
   ],
   "source": [
    "target_func()"
   ]
  },
  {
   "cell_type": "code",
   "execution_count": 128,
   "metadata": {},
   "outputs": [],
   "source": [
    "@new_dec\n",
    "def target_func():\n",
    "    print('decorated function code')"
   ]
  },
  {
   "cell_type": "code",
   "execution_count": 129,
   "metadata": {},
   "outputs": [
    {
     "name": "stdout",
     "output_type": "stream",
     "text": [
      "some code was ran\n",
      "decorated function code\n",
      "Code after func()\n"
     ]
    }
   ],
   "source": [
    "target_func()"
   ]
  },
  {
   "cell_type": "code",
   "execution_count": null,
   "metadata": {},
   "outputs": [],
   "source": []
  }
 ],
 "metadata": {
  "kernelspec": {
   "display_name": "Python 3",
   "language": "python",
   "name": "python3"
  },
  "language_info": {
   "codemirror_mode": {
    "name": "ipython",
    "version": 3
   },
   "file_extension": ".py",
   "mimetype": "text/x-python",
   "name": "python",
   "nbconvert_exporter": "python",
   "pygments_lexer": "ipython3",
   "version": "3.7.7"
  }
 },
 "nbformat": 4,
 "nbformat_minor": 4
}
